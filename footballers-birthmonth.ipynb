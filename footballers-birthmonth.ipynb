{
 "cells": [
  {
   "cell_type": "code",
   "execution_count": 1,
   "metadata": {},
   "outputs": [],
   "source": [
    "# importing libraries\n",
    "import pandas as pd\n",
    "import matplotlib.pyplot as plt\n",
    "import matplotlib.dates as mdates\n",
    "from matplotlib import dates\n",
    "import datetime as dt"
   ]
  },
  {
   "cell_type": "markdown",
   "metadata": {},
   "source": [
    "## Loading data"
   ]
  },
  {
   "cell_type": "code",
   "execution_count": 2,
   "metadata": {},
   "outputs": [],
   "source": [
    "# importing data into pandas dataframe and creating a copy\n",
    "source_data = pd.read_csv('footballers-birthmonths.csv')\n",
    "df = source_data.copy()"
   ]
  },
  {
   "cell_type": "code",
   "execution_count": 3,
   "metadata": {},
   "outputs": [
    {
     "data": {
      "text/html": [
       "<div>\n",
       "<style scoped>\n",
       "    .dataframe tbody tr th:only-of-type {\n",
       "        vertical-align: middle;\n",
       "    }\n",
       "\n",
       "    .dataframe tbody tr th {\n",
       "        vertical-align: top;\n",
       "    }\n",
       "\n",
       "    .dataframe thead th {\n",
       "        text-align: right;\n",
       "    }\n",
       "</style>\n",
       "<table border=\"1\" class=\"dataframe\">\n",
       "  <thead>\n",
       "    <tr style=\"text-align: right;\">\n",
       "      <th></th>\n",
       "      <th>Player</th>\n",
       "      <th>Club</th>\n",
       "      <th>Nationality</th>\n",
       "      <th>Birthday</th>\n",
       "    </tr>\n",
       "  </thead>\n",
       "  <tbody>\n",
       "    <tr>\n",
       "      <th>0</th>\n",
       "      <td>Shane Duffy</td>\n",
       "      <td>Brighton</td>\n",
       "      <td>Irish</td>\n",
       "      <td>1900-01-01</td>\n",
       "    </tr>\n",
       "    <tr>\n",
       "      <th>1</th>\n",
       "      <td>Jonny Evans</td>\n",
       "      <td>West Brom</td>\n",
       "      <td>Northern Irish</td>\n",
       "      <td>1900-01-02</td>\n",
       "    </tr>\n",
       "    <tr>\n",
       "      <th>2</th>\n",
       "      <td>James Milner</td>\n",
       "      <td>Liverpool</td>\n",
       "      <td>English</td>\n",
       "      <td>1900-01-04</td>\n",
       "    </tr>\n",
       "    <tr>\n",
       "      <th>3</th>\n",
       "      <td>Toni Kroos</td>\n",
       "      <td>Real Madrid</td>\n",
       "      <td>German</td>\n",
       "      <td>1900-01-04</td>\n",
       "    </tr>\n",
       "    <tr>\n",
       "      <th>4</th>\n",
       "      <td>Andy Carroll</td>\n",
       "      <td>West Ham</td>\n",
       "      <td>English</td>\n",
       "      <td>1900-01-06</td>\n",
       "    </tr>\n",
       "  </tbody>\n",
       "</table>\n",
       "</div>"
      ],
      "text/plain": [
       "         Player         Club     Nationality    Birthday\n",
       "0   Shane Duffy     Brighton           Irish  1900-01-01\n",
       "1   Jonny Evans    West Brom  Northern Irish  1900-01-02\n",
       "2  James Milner    Liverpool         English  1900-01-04\n",
       "3    Toni Kroos  Real Madrid          German  1900-01-04\n",
       "4  Andy Carroll     West Ham         English  1900-01-06"
      ]
     },
     "execution_count": 3,
     "metadata": {},
     "output_type": "execute_result"
    }
   ],
   "source": [
    "# viewing data\n",
    "df.head()"
   ]
  },
  {
   "cell_type": "code",
   "execution_count": 4,
   "metadata": {},
   "outputs": [],
   "source": [
    "# converting Birthday column to datetime\n",
    "df['Birthday'] = pd.to_datetime(df['Birthday'])"
   ]
  },
  {
   "cell_type": "code",
   "execution_count": 5,
   "metadata": {},
   "outputs": [],
   "source": [
    "# dropping unneccesary columns\n",
    "df = df.drop(['Club','Nationality'],axis=1)"
   ]
  },
  {
   "cell_type": "code",
   "execution_count": 6,
   "metadata": {},
   "outputs": [],
   "source": [
    "# grouping by month and counting #of players\n",
    "month_df =  df.groupby(pd.Grouper(key='Birthday',axis=0,freq='M')).count()"
   ]
  },
  {
   "cell_type": "code",
   "execution_count": 7,
   "metadata": {},
   "outputs": [
    {
     "data": {
      "text/html": [
       "<div>\n",
       "<style scoped>\n",
       "    .dataframe tbody tr th:only-of-type {\n",
       "        vertical-align: middle;\n",
       "    }\n",
       "\n",
       "    .dataframe tbody tr th {\n",
       "        vertical-align: top;\n",
       "    }\n",
       "\n",
       "    .dataframe thead th {\n",
       "        text-align: right;\n",
       "    }\n",
       "</style>\n",
       "<table border=\"1\" class=\"dataframe\">\n",
       "  <thead>\n",
       "    <tr style=\"text-align: right;\">\n",
       "      <th></th>\n",
       "      <th>Player</th>\n",
       "    </tr>\n",
       "    <tr>\n",
       "      <th>Birthday</th>\n",
       "      <th></th>\n",
       "    </tr>\n",
       "  </thead>\n",
       "  <tbody>\n",
       "    <tr>\n",
       "      <th>1900-01-31</th>\n",
       "      <td>32</td>\n",
       "    </tr>\n",
       "    <tr>\n",
       "      <th>1900-02-28</th>\n",
       "      <td>25</td>\n",
       "    </tr>\n",
       "    <tr>\n",
       "      <th>1900-03-31</th>\n",
       "      <td>27</td>\n",
       "    </tr>\n",
       "    <tr>\n",
       "      <th>1900-04-30</th>\n",
       "      <td>19</td>\n",
       "    </tr>\n",
       "    <tr>\n",
       "      <th>1900-05-31</th>\n",
       "      <td>27</td>\n",
       "    </tr>\n",
       "    <tr>\n",
       "      <th>1900-06-30</th>\n",
       "      <td>18</td>\n",
       "    </tr>\n",
       "    <tr>\n",
       "      <th>1900-07-31</th>\n",
       "      <td>18</td>\n",
       "    </tr>\n",
       "    <tr>\n",
       "      <th>1900-08-31</th>\n",
       "      <td>21</td>\n",
       "    </tr>\n",
       "    <tr>\n",
       "      <th>1900-09-30</th>\n",
       "      <td>23</td>\n",
       "    </tr>\n",
       "    <tr>\n",
       "      <th>1900-10-31</th>\n",
       "      <td>21</td>\n",
       "    </tr>\n",
       "    <tr>\n",
       "      <th>1900-11-30</th>\n",
       "      <td>26</td>\n",
       "    </tr>\n",
       "    <tr>\n",
       "      <th>1900-12-31</th>\n",
       "      <td>23</td>\n",
       "    </tr>\n",
       "  </tbody>\n",
       "</table>\n",
       "</div>"
      ],
      "text/plain": [
       "            Player\n",
       "Birthday          \n",
       "1900-01-31      32\n",
       "1900-02-28      25\n",
       "1900-03-31      27\n",
       "1900-04-30      19\n",
       "1900-05-31      27\n",
       "1900-06-30      18\n",
       "1900-07-31      18\n",
       "1900-08-31      21\n",
       "1900-09-30      23\n",
       "1900-10-31      21\n",
       "1900-11-30      26\n",
       "1900-12-31      23"
      ]
     },
     "execution_count": 7,
     "metadata": {},
     "output_type": "execute_result"
    }
   ],
   "source": [
    "# viewing data\n",
    "month_df"
   ]
  },
  {
   "cell_type": "markdown",
   "metadata": {},
   "source": [
    "## Visualizing data per month"
   ]
  },
  {
   "cell_type": "code",
   "execution_count": 8,
   "metadata": {},
   "outputs": [
    {
     "data": {
      "text/plain": [
       "<BarContainer object of 12 artists>"
      ]
     },
     "execution_count": 8,
     "metadata": {},
     "output_type": "execute_result"
    },
    {
     "data": {
      "image/png": "[encoded data removed]",
      "text/plain": [
       "<Figure size 864x504 with 1 Axes>"
      ]
     },
     "metadata": {
      "needs_background": "light"
     },
     "output_type": "display_data"
    }
   ],
   "source": [
    "# visualizing monthly data\n",
    "fig,ax = plt.subplots(1,1,figsize=(12, 7))\n",
    "labels = ['Jan', 'Feb', 'Mar', 'Apr', 'May', 'Jun', 'Jul', 'Aug', 'Sep', 'Oct', 'Nov', 'Dec']\n",
    "plt.xticks(month_df.index,labels)\n",
    "ax.spines[['top','right']].set_visible(False)\n",
    "ax.tick_params(axis='both', left=False, bottom=False, labelsize=12)\n",
    "ax.grid(axis='y', color='gray', dashes=(8,3), alpha=0.5)\n",
    "plt.title('BIRTHDAYS PER MONTH',fontsize = 20)\n",
    "#plt.title('Birthdays per month',fontsize = 20,backgroundcolor = 'black', color = 'white')\n",
    "plt.bar(month_df.index, month_df.Player,width=10, color = 'maroon')"
   ]
  },
  {
   "cell_type": "code",
   "execution_count": 9,
   "metadata": {},
   "outputs": [
    {
     "data": {
      "text/plain": [
       "[1, 1, 1, 2, 2, 2, 3, 3, 3, 4, 4, 4]"
      ]
     },
     "execution_count": 9,
     "metadata": {},
     "output_type": "execute_result"
    }
   ],
   "source": [
    "# adding quarters to the df\n",
    "quarters = []\n",
    "for i in range(1,4):\n",
    "    for j in range(1,5):\n",
    "        quarters.append(j)\n",
    "quarters.sort()\n",
    "quarters"
   ]
  },
  {
   "cell_type": "code",
   "execution_count": 10,
   "metadata": {},
   "outputs": [
    {
     "data": {
      "text/html": [
       "<div>\n",
       "<style scoped>\n",
       "    .dataframe tbody tr th:only-of-type {\n",
       "        vertical-align: middle;\n",
       "    }\n",
       "\n",
       "    .dataframe tbody tr th {\n",
       "        vertical-align: top;\n",
       "    }\n",
       "\n",
       "    .dataframe thead th {\n",
       "        text-align: right;\n",
       "    }\n",
       "</style>\n",
       "<table border=\"1\" class=\"dataframe\">\n",
       "  <thead>\n",
       "    <tr style=\"text-align: right;\">\n",
       "      <th></th>\n",
       "      <th>Player</th>\n",
       "      <th>Quarter</th>\n",
       "    </tr>\n",
       "    <tr>\n",
       "      <th>Birthday</th>\n",
       "      <th></th>\n",
       "      <th></th>\n",
       "    </tr>\n",
       "  </thead>\n",
       "  <tbody>\n",
       "    <tr>\n",
       "      <th>1900-01-31</th>\n",
       "      <td>32</td>\n",
       "      <td>1</td>\n",
       "    </tr>\n",
       "    <tr>\n",
       "      <th>1900-02-28</th>\n",
       "      <td>25</td>\n",
       "      <td>1</td>\n",
       "    </tr>\n",
       "    <tr>\n",
       "      <th>1900-03-31</th>\n",
       "      <td>27</td>\n",
       "      <td>1</td>\n",
       "    </tr>\n",
       "    <tr>\n",
       "      <th>1900-04-30</th>\n",
       "      <td>19</td>\n",
       "      <td>2</td>\n",
       "    </tr>\n",
       "    <tr>\n",
       "      <th>1900-05-31</th>\n",
       "      <td>27</td>\n",
       "      <td>2</td>\n",
       "    </tr>\n",
       "    <tr>\n",
       "      <th>1900-06-30</th>\n",
       "      <td>18</td>\n",
       "      <td>2</td>\n",
       "    </tr>\n",
       "    <tr>\n",
       "      <th>1900-07-31</th>\n",
       "      <td>18</td>\n",
       "      <td>3</td>\n",
       "    </tr>\n",
       "    <tr>\n",
       "      <th>1900-08-31</th>\n",
       "      <td>21</td>\n",
       "      <td>3</td>\n",
       "    </tr>\n",
       "    <tr>\n",
       "      <th>1900-09-30</th>\n",
       "      <td>23</td>\n",
       "      <td>3</td>\n",
       "    </tr>\n",
       "    <tr>\n",
       "      <th>1900-10-31</th>\n",
       "      <td>21</td>\n",
       "      <td>4</td>\n",
       "    </tr>\n",
       "    <tr>\n",
       "      <th>1900-11-30</th>\n",
       "      <td>26</td>\n",
       "      <td>4</td>\n",
       "    </tr>\n",
       "    <tr>\n",
       "      <th>1900-12-31</th>\n",
       "      <td>23</td>\n",
       "      <td>4</td>\n",
       "    </tr>\n",
       "  </tbody>\n",
       "</table>\n",
       "</div>"
      ],
      "text/plain": [
       "            Player  Quarter\n",
       "Birthday                   \n",
       "1900-01-31      32        1\n",
       "1900-02-28      25        1\n",
       "1900-03-31      27        1\n",
       "1900-04-30      19        2\n",
       "1900-05-31      27        2\n",
       "1900-06-30      18        2\n",
       "1900-07-31      18        3\n",
       "1900-08-31      21        3\n",
       "1900-09-30      23        3\n",
       "1900-10-31      21        4\n",
       "1900-11-30      26        4\n",
       "1900-12-31      23        4"
      ]
     },
     "execution_count": 10,
     "metadata": {},
     "output_type": "execute_result"
    }
   ],
   "source": [
    "# viewing data\n",
    "month_df['Quarter'] = quarters\n",
    "month_df"
   ]
  },
  {
   "cell_type": "code",
   "execution_count": 11,
   "metadata": {},
   "outputs": [],
   "source": [
    "# sum of data per quarter\n",
    "qdf = month_df.groupby(['Quarter']).sum()"
   ]
  },
  {
   "cell_type": "code",
   "execution_count": 12,
   "metadata": {},
   "outputs": [
    {
     "data": {
      "text/html": [
       "<div>\n",
       "<style scoped>\n",
       "    .dataframe tbody tr th:only-of-type {\n",
       "        vertical-align: middle;\n",
       "    }\n",
       "\n",
       "    .dataframe tbody tr th {\n",
       "        vertical-align: top;\n",
       "    }\n",
       "\n",
       "    .dataframe thead th {\n",
       "        text-align: right;\n",
       "    }\n",
       "</style>\n",
       "<table border=\"1\" class=\"dataframe\">\n",
       "  <thead>\n",
       "    <tr style=\"text-align: right;\">\n",
       "      <th></th>\n",
       "      <th>Player</th>\n",
       "    </tr>\n",
       "    <tr>\n",
       "      <th>Quarter</th>\n",
       "      <th></th>\n",
       "    </tr>\n",
       "  </thead>\n",
       "  <tbody>\n",
       "    <tr>\n",
       "      <th>1</th>\n",
       "      <td>84</td>\n",
       "    </tr>\n",
       "    <tr>\n",
       "      <th>2</th>\n",
       "      <td>64</td>\n",
       "    </tr>\n",
       "    <tr>\n",
       "      <th>3</th>\n",
       "      <td>62</td>\n",
       "    </tr>\n",
       "    <tr>\n",
       "      <th>4</th>\n",
       "      <td>70</td>\n",
       "    </tr>\n",
       "  </tbody>\n",
       "</table>\n",
       "</div>"
      ],
      "text/plain": [
       "         Player\n",
       "Quarter        \n",
       "1            84\n",
       "2            64\n",
       "3            62\n",
       "4            70"
      ]
     },
     "execution_count": 12,
     "metadata": {},
     "output_type": "execute_result"
    }
   ],
   "source": [
    "# viewing data\n",
    "qdf"
   ]
  },
  {
   "cell_type": "markdown",
   "metadata": {},
   "source": [
    "## Visualizing data per quarter"
   ]
  },
  {
   "cell_type": "code",
   "execution_count": 13,
   "metadata": {},
   "outputs": [
    {
     "data": {
      "text/plain": [
       "<BarContainer object of 4 artists>"
      ]
     },
     "execution_count": 13,
     "metadata": {},
     "output_type": "execute_result"
    },
    {
     "data": {
      "image/png": "[encoded data removed]",
      "text/plain": [
       "<Figure size 864x504 with 1 Axes>"
      ]
     },
     "metadata": {
      "needs_background": "light"
     },
     "output_type": "display_data"
    }
   ],
   "source": [
    "# visualizing quarterly data\n",
    "fig,ax = plt.subplots(1,1,figsize=(12, 7))\n",
    "ax.spines[['top','right']].set_visible(False)\n",
    "ax.tick_params(axis='both', left=False, bottom=False, labelsize=12)\n",
    "ax.grid(axis='y', color='gray', dashes=(8,3), alpha=0.5)\n",
    "plt.xticks(qdf.index, qdf.index)\n",
    "plt.title('BIRTHDAYS PER QUARTER',fontsize = 20)\n",
    "plt.bar(qdf.index, qdf.Player, width=0.2, color='maroon')"
   ]
  },
  {
   "cell_type": "code",
   "execution_count": 14,
   "metadata": {},
   "outputs": [
    {
     "name": "stdout",
     "output_type": "stream",
     "text": [
      "30.00% of players are born in the first quarter of the year.\n",
      "52.86% of players are born in the first half of the year.\n"
     ]
    }
   ],
   "source": [
    "# calculating % of players born in the first quarter and first half of the year\n",
    "total = month_df.sum()\n",
    "totalplayers = total.Player\n",
    "firstq = qdf.iloc[0].sum()\n",
    "firsth = qdf.iloc[0:2].sum()\n",
    "firsth = firsth[0]\n",
    "\n",
    "print(f'{firstq/totalplayers:.2%} of players are born in the first quarter of the year.')\n",
    "print(f'{firsth/totalplayers:.2%} of players are born in the first half of the year.')"
   ]
  },
  {
   "cell_type": "code",
   "execution_count": 15,
   "metadata": {},
   "outputs": [],
   "source": [
    "# setting index for df and creating a dummy column for visualization\n",
    "dfp = df.set_index('Birthday')\n",
    "dfp['Dummy'] = 1"
   ]
  },
  {
   "cell_type": "code",
   "execution_count": 16,
   "metadata": {},
   "outputs": [
    {
     "data": {
      "text/html": [
       "<div>\n",
       "<style scoped>\n",
       "    .dataframe tbody tr th:only-of-type {\n",
       "        vertical-align: middle;\n",
       "    }\n",
       "\n",
       "    .dataframe tbody tr th {\n",
       "        vertical-align: top;\n",
       "    }\n",
       "\n",
       "    .dataframe thead th {\n",
       "        text-align: right;\n",
       "    }\n",
       "</style>\n",
       "<table border=\"1\" class=\"dataframe\">\n",
       "  <thead>\n",
       "    <tr style=\"text-align: right;\">\n",
       "      <th></th>\n",
       "      <th>Player</th>\n",
       "      <th>Dummy</th>\n",
       "    </tr>\n",
       "    <tr>\n",
       "      <th>Birthday</th>\n",
       "      <th></th>\n",
       "      <th></th>\n",
       "    </tr>\n",
       "  </thead>\n",
       "  <tbody>\n",
       "    <tr>\n",
       "      <th>1900-01-01</th>\n",
       "      <td>Shane Duffy</td>\n",
       "      <td>1</td>\n",
       "    </tr>\n",
       "    <tr>\n",
       "      <th>1900-01-02</th>\n",
       "      <td>Jonny Evans</td>\n",
       "      <td>1</td>\n",
       "    </tr>\n",
       "    <tr>\n",
       "      <th>1900-01-04</th>\n",
       "      <td>James Milner</td>\n",
       "      <td>1</td>\n",
       "    </tr>\n",
       "    <tr>\n",
       "      <th>1900-01-04</th>\n",
       "      <td>Toni Kroos</td>\n",
       "      <td>1</td>\n",
       "    </tr>\n",
       "    <tr>\n",
       "      <th>1900-01-06</th>\n",
       "      <td>Andy Carroll</td>\n",
       "      <td>1</td>\n",
       "    </tr>\n",
       "    <tr>\n",
       "      <th>...</th>\n",
       "      <td>...</td>\n",
       "      <td>...</td>\n",
       "    </tr>\n",
       "    <tr>\n",
       "      <th>1900-12-20</th>\n",
       "      <td>Kylian Mbappe</td>\n",
       "      <td>1</td>\n",
       "    </tr>\n",
       "    <tr>\n",
       "      <th>1900-12-26</th>\n",
       "      <td>Aaron Ramsey</td>\n",
       "      <td>1</td>\n",
       "    </tr>\n",
       "    <tr>\n",
       "      <th>1900-12-26</th>\n",
       "      <td>Hugo Lloris</td>\n",
       "      <td>1</td>\n",
       "    </tr>\n",
       "    <tr>\n",
       "      <th>1900-12-28</th>\n",
       "      <td>Marcos Alonso</td>\n",
       "      <td>1</td>\n",
       "    </tr>\n",
       "    <tr>\n",
       "      <th>1900-12-31</th>\n",
       "      <td>Sir Alex Ferguson</td>\n",
       "      <td>1</td>\n",
       "    </tr>\n",
       "  </tbody>\n",
       "</table>\n",
       "<p>280 rows × 2 columns</p>\n",
       "</div>"
      ],
      "text/plain": [
       "                       Player  Dummy\n",
       "Birthday                            \n",
       "1900-01-01        Shane Duffy      1\n",
       "1900-01-02        Jonny Evans      1\n",
       "1900-01-04       James Milner      1\n",
       "1900-01-04         Toni Kroos      1\n",
       "1900-01-06       Andy Carroll      1\n",
       "...                       ...    ...\n",
       "1900-12-20      Kylian Mbappe      1\n",
       "1900-12-26       Aaron Ramsey      1\n",
       "1900-12-26        Hugo Lloris      1\n",
       "1900-12-28      Marcos Alonso      1\n",
       "1900-12-31  Sir Alex Ferguson      1\n",
       "\n",
       "[280 rows x 2 columns]"
      ]
     },
     "execution_count": 16,
     "metadata": {},
     "output_type": "execute_result"
    }
   ],
   "source": [
    "# viewing data\n",
    "dfp"
   ]
  },
  {
   "cell_type": "code",
   "execution_count": 17,
   "metadata": {},
   "outputs": [],
   "source": [
    "# list of players to label\n",
    "to_label = ['Cristiano Ronaldo','Lionel Messi']\n",
    "\n",
    "# function that sets the Dummy column to 1.25 for easier visualization and returns a dictionary with the player name and datetime object of their birthday\n",
    "# this is to enable annotation of the graph below\n",
    "def label_prep(input_list):\n",
    "    output = {}\n",
    "    for player in input_list:\n",
    "        dfp.loc[(dfp.Player == player),'Dummy'] = 1.25\n",
    "        x = dfp[dfp.Player== player].index\n",
    "        x = str(x[0])\n",
    "        x = x.split()[0]\n",
    "        x = dt.datetime.strptime(x,'%Y-%m-%d')\n",
    "        output[player] = x\n",
    "    return output\n",
    "\n",
    "labels = label_prep(to_label)"
   ]
  },
  {
   "cell_type": "code",
   "execution_count": 18,
   "metadata": {},
   "outputs": [
    {
     "data": {
      "text/html": [
       "<div>\n",
       "<style scoped>\n",
       "    .dataframe tbody tr th:only-of-type {\n",
       "        vertical-align: middle;\n",
       "    }\n",
       "\n",
       "    .dataframe tbody tr th {\n",
       "        vertical-align: top;\n",
       "    }\n",
       "\n",
       "    .dataframe thead th {\n",
       "        text-align: right;\n",
       "    }\n",
       "</style>\n",
       "<table border=\"1\" class=\"dataframe\">\n",
       "  <thead>\n",
       "    <tr style=\"text-align: right;\">\n",
       "      <th></th>\n",
       "      <th>Player</th>\n",
       "      <th>Dummy</th>\n",
       "    </tr>\n",
       "    <tr>\n",
       "      <th>Birthday</th>\n",
       "      <th></th>\n",
       "      <th></th>\n",
       "    </tr>\n",
       "  </thead>\n",
       "  <tbody>\n",
       "    <tr>\n",
       "      <th>1900-02-05</th>\n",
       "      <td>Cristiano Ronaldo</td>\n",
       "      <td>1.25</td>\n",
       "    </tr>\n",
       "    <tr>\n",
       "      <th>1900-06-24</th>\n",
       "      <td>Lionel Messi</td>\n",
       "      <td>1.25</td>\n",
       "    </tr>\n",
       "  </tbody>\n",
       "</table>\n",
       "</div>"
      ],
      "text/plain": [
       "                       Player  Dummy\n",
       "Birthday                            \n",
       "1900-02-05  Cristiano Ronaldo   1.25\n",
       "1900-06-24       Lionel Messi   1.25"
      ]
     },
     "execution_count": 18,
     "metadata": {},
     "output_type": "execute_result"
    }
   ],
   "source": [
    "# looking up Messi and Ronaldo\n",
    "dfp.query(\"Player == 'Lionel Messi' or Player == 'Cristiano Ronaldo'\")"
   ]
  },
  {
   "cell_type": "markdown",
   "metadata": {},
   "source": [
    "## Visualizing full dataset with data callouts "
   ]
  },
  {
   "cell_type": "code",
   "execution_count": 19,
   "metadata": {},
   "outputs": [
    {
     "data": {
      "image/png": "[encoded data removed]",
      "text/plain": [
       "<Figure size 1440x504 with 1 Axes>"
      ]
     },
     "metadata": {
      "needs_background": "light"
     },
     "output_type": "display_data"
    }
   ],
   "source": [
    "# visualizing data\n",
    "fig, ax = plt.subplots(1, 1, figsize=(20, 7))\n",
    "ax.xaxis.set_major_locator(dates.MonthLocator())\n",
    "ax.xaxis.set_major_formatter(mdates.DateFormatter('%b'))\n",
    "ax.spines[['top','right']].set_visible(False)\n",
    "ax.tick_params(axis='both', left=False, bottom=False, labelsize=12)\n",
    "plt.yticks(dfp.Dummy)\n",
    "ax.axes.get_yaxis().set_visible(False)\n",
    "#fig.patch.set_facecolor('xkcd:mint green')\n",
    "#ax.set_facecolor('xkcd:salmon')\n",
    "plt.title(\"FOOTBALLERS' BIRTHDAYS IN A CALENDAR YEAR\",fontsize = 20)\n",
    "plt.bar(dfp.index, dfp.Dummy, width=0.5, color='maroon')\n",
    "\n",
    "# annotate data with key, value pair from dictionary that was created earlier\n",
    "for key in labels:\n",
    "    plt.annotate(key, (labels[key], 1.25),ha = 'center', textcoords = 'offset points',xytext = (0,5))\n"
   ]
  }
 ],
 "metadata": {
  "interpreter": {
   "hash": "da43d9bc06e55180a8f53f1cd2e7e6cf40cf291c47a7e68592e5dc064e487953"
  },
  "kernelspec": {
   "display_name": "Python 3.9.7 64-bit ('footballers-birthmonth': conda)",
   "language": "python",
   "name": "python3"
  },
  "language_info": {
   "codemirror_mode": {
    "name": "ipython",
    "version": 3
   },
   "file_extension": ".py",
   "mimetype": "text/x-python",
   "name": "python",
   "nbconvert_exporter": "python",
   "pygments_lexer": "ipython3",
   "version": "3.9.7"
  },
  "orig_nbformat": 4
 },
 "nbformat": 4,
 "nbformat_minor": 2
}
